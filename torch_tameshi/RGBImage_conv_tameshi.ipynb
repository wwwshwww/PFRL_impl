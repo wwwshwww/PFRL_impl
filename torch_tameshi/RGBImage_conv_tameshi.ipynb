{
 "metadata": {
  "language_info": {
   "codemirror_mode": {
    "name": "ipython",
    "version": 3
   },
   "file_extension": ".py",
   "mimetype": "text/x-python",
   "name": "python",
   "nbconvert_exporter": "python",
   "pygments_lexer": "ipython3",
   "version": "3.8.6"
  },
  "orig_nbformat": 2,
  "kernelspec": {
   "name": "python386jvsc74a57bd00e4c6caba1d3762b61e4a30fb3cfa6f47eab88e5344d94b2359cf7b7c0fd8e66",
   "display_name": "Python 3.8.6 64-bit ('.venv': venv)",
   "language": "python"
  }
 },
 "nbformat": 4,
 "nbformat_minor": 2,
 "cells": [
  {
   "cell_type": "code",
   "execution_count": 1,
   "metadata": {},
   "outputs": [],
   "source": [
    "import numpy as np\n",
    "import torch\n",
    "import torch.nn as nn\n",
    "import matplotlib.pyplot as plt"
   ]
  },
  {
   "source": [
    "## numpy array -> torch tensor\n",
    " \n",
    "https://tzmi.hatenablog.com/entry/2020/02/16/170928"
   ],
   "cell_type": "markdown",
   "metadata": {}
  },
  {
   "cell_type": "code",
   "execution_count": 41,
   "metadata": {},
   "outputs": [
    {
     "output_type": "stream",
     "name": "stdout",
     "text": [
      "(128, 128, 3)\ntorch.Size([1, 3, 128, 128])\n"
     ]
    }
   ],
   "source": [
    "img = np.random.randint(256, size=(128,128,3))\n",
    "print(img.shape)\n",
    "\n",
    "tn = torch.from_numpy(img.astype(np.float32))\n",
    "tn = tn.unsqueeze(0).permute(0,3,1,2)\n",
    "print(tn.shape)"
   ]
  },
  {
   "cell_type": "code",
   "execution_count": 47,
   "metadata": {},
   "outputs": [],
   "source": [
    "conv2 = nn.Sequential(\n",
    "    # 128*128 -> 32*32\n",
    "    nn.Conv2d(3, 16, kernel_size=8, stride=4, padding=2),\n",
    "    nn.ReLU(),\n",
    "    # 32*32 -> 15*15\n",
    "    nn.Conv2d(16, 32, kernel_size=4, stride=2),\n",
    "    nn.ReLU(),\n",
    "    # 15*15 -> 13*13\n",
    "    nn.Conv2d(32, 32, kernel_size=3, stride=1),\n",
    "    nn.ReLU(),\n",
    "    nn.Flatten(),\n",
    "    # 16*13*13 -> 200\n",
    "    nn.Linear(32*13*13, 200),\n",
    "    nn.ReLU()\n",
    ")"
   ]
  },
  {
   "cell_type": "code",
   "execution_count": 48,
   "metadata": {},
   "outputs": [
    {
     "output_type": "execute_result",
     "data": {
      "text/plain": [
       "torch.Size([1, 200])"
      ]
     },
     "metadata": {},
     "execution_count": 48
    }
   ],
   "source": [
    "conv2(tn).shape"
   ]
  },
  {
   "cell_type": "code",
   "execution_count": 51,
   "metadata": {},
   "outputs": [
    {
     "output_type": "execute_result",
     "data": {
      "text/plain": [
       "torch.Size([4, 200])"
      ]
     },
     "metadata": {},
     "execution_count": 51
    }
   ],
   "source": [
    "img_batch = np.random.randint(256, size=(4,128,128,3))\n",
    "h = torch.from_numpy(img_batch.astype(np.float32))\n",
    "h = h.permute(0,3,1,2)\n",
    "\n",
    "conv2(h).shape"
   ]
  },
  {
   "cell_type": "code",
   "execution_count": null,
   "metadata": {},
   "outputs": [],
   "source": []
  }
 ]
}